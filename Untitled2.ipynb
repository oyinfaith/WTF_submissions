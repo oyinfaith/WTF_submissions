{
 "cells": [
  {
   "cell_type": "code",
   "execution_count": 1,
   "id": "38db4bff",
   "metadata": {},
   "outputs": [],
   "source": [
    "def mul_add(a,b):\n",
    "    multi =  a * b\n",
    "    while multi <= 100:\n",
    "        return multi\n",
    "    else:\n",
    "        return a + b"
   ]
  },
  {
   "cell_type": "code",
   "execution_count": 2,
   "id": "6460e658",
   "metadata": {},
   "outputs": [
    {
     "name": "stdout",
     "output_type": "stream",
     "text": [
      "The result is:  20\n",
      "The result is:  105\n"
     ]
    }
   ],
   "source": [
    "multi_add = mul_add(4,5)\n",
    "print('The result is: ', multi_add)\n",
    "\n",
    "multi_add = mul_add(100,5)\n",
    "print('The result is: ', multi_add)\n"
   ]
  },
  {
   "cell_type": "code",
   "execution_count": null,
   "id": "12f1cb87",
   "metadata": {},
   "outputs": [],
   "source": []
  },
  {
   "cell_type": "code",
   "execution_count": null,
   "id": "d8eb5fe8",
   "metadata": {},
   "outputs": [],
   "source": []
  },
  {
   "cell_type": "code",
   "execution_count": null,
   "id": "39856e7f",
   "metadata": {},
   "outputs": [],
   "source": []
  }
 ],
 "metadata": {
  "kernelspec": {
   "display_name": "Python 3 (ipykernel)",
   "language": "python",
   "name": "python3"
  },
  "language_info": {
   "codemirror_mode": {
    "name": "ipython",
    "version": 3
   },
   "file_extension": ".py",
   "mimetype": "text/x-python",
   "name": "python",
   "nbconvert_exporter": "python",
   "pygments_lexer": "ipython3",
   "version": "3.9.12"
  }
 },
 "nbformat": 4,
 "nbformat_minor": 5
}
